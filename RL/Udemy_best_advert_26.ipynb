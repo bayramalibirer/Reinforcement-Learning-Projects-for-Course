{
  "nbformat": 4,
  "nbformat_minor": 0,
  "metadata": {
    "colab": {
      "name": "Udemy best advertisement banner using bandits.ipynb",
      "provenance": [],
      "collapsed_sections": []
    },
    "kernelspec": {
      "name": "python3",
      "display_name": "Python 3"
    }
  },
  "cells": [
    {
      "cell_type": "code",
      "metadata": {
        "id": "Pa8VXb7AZRRO"
      },
      "source": [
        "import pandas as pd"
      ],
      "execution_count": 12,
      "outputs": []
    },
    {
      "cell_type": "code",
      "metadata": {
        "id": "lIH1tfZLaJRR"
      },
      "source": [
        "import numpy as np\r\n",
        "import matplotlib.pyplot as plt\r\n",
        "import seaborn as sns\r\n",
        "% matplotlib inline\r\n",
        "plt.style.use('ggplot')"
      ],
      "execution_count": 13,
      "outputs": []
    },
    {
      "cell_type": "code",
      "metadata": {
        "id": "M5OYOQ4JacmP"
      },
      "source": [
        "df = pd.DataFrame()\r\n",
        "for i in range(5):\r\n",
        "  df['Banner_type_' +str(i)] = np.random.randint(0,2,100000)"
      ],
      "execution_count": 14,
      "outputs": []
    },
    {
      "cell_type": "code",
      "metadata": {
        "colab": {
          "base_uri": "https://localhost:8080/",
          "height": 195
        },
        "id": "rYO3NNRFaspN",
        "outputId": "bac34191-3582-47ab-cd9e-b6749da271af"
      },
      "source": [
        "df.head()"
      ],
      "execution_count": 15,
      "outputs": [
        {
          "output_type": "execute_result",
          "data": {
            "text/html": [
              "<div>\n",
              "<style scoped>\n",
              "    .dataframe tbody tr th:only-of-type {\n",
              "        vertical-align: middle;\n",
              "    }\n",
              "\n",
              "    .dataframe tbody tr th {\n",
              "        vertical-align: top;\n",
              "    }\n",
              "\n",
              "    .dataframe thead th {\n",
              "        text-align: right;\n",
              "    }\n",
              "</style>\n",
              "<table border=\"1\" class=\"dataframe\">\n",
              "  <thead>\n",
              "    <tr style=\"text-align: right;\">\n",
              "      <th></th>\n",
              "      <th>Banner_type_0</th>\n",
              "      <th>Banner_type_1</th>\n",
              "      <th>Banner_type_2</th>\n",
              "      <th>Banner_type_3</th>\n",
              "      <th>Banner_type_4</th>\n",
              "    </tr>\n",
              "  </thead>\n",
              "  <tbody>\n",
              "    <tr>\n",
              "      <th>0</th>\n",
              "      <td>0</td>\n",
              "      <td>0</td>\n",
              "      <td>1</td>\n",
              "      <td>0</td>\n",
              "      <td>0</td>\n",
              "    </tr>\n",
              "    <tr>\n",
              "      <th>1</th>\n",
              "      <td>1</td>\n",
              "      <td>1</td>\n",
              "      <td>1</td>\n",
              "      <td>1</td>\n",
              "      <td>0</td>\n",
              "    </tr>\n",
              "    <tr>\n",
              "      <th>2</th>\n",
              "      <td>0</td>\n",
              "      <td>1</td>\n",
              "      <td>1</td>\n",
              "      <td>0</td>\n",
              "      <td>1</td>\n",
              "    </tr>\n",
              "    <tr>\n",
              "      <th>3</th>\n",
              "      <td>0</td>\n",
              "      <td>0</td>\n",
              "      <td>1</td>\n",
              "      <td>0</td>\n",
              "      <td>1</td>\n",
              "    </tr>\n",
              "    <tr>\n",
              "      <th>4</th>\n",
              "      <td>1</td>\n",
              "      <td>1</td>\n",
              "      <td>0</td>\n",
              "      <td>0</td>\n",
              "      <td>1</td>\n",
              "    </tr>\n",
              "  </tbody>\n",
              "</table>\n",
              "</div>"
            ],
            "text/plain": [
              "   Banner_type_0  Banner_type_1  Banner_type_2  Banner_type_3  Banner_type_4\n",
              "0              0              0              1              0              0\n",
              "1              1              1              1              1              0\n",
              "2              0              1              1              0              1\n",
              "3              0              0              1              0              1\n",
              "4              1              1              0              0              1"
            ]
          },
          "metadata": {
            "tags": []
          },
          "execution_count": 15
        }
      ]
    },
    {
      "cell_type": "code",
      "metadata": {
        "id": "uUf7dcg0azwD"
      },
      "source": [
        "num_iterations = 100000\r\n",
        "num_banners = 5\r\n",
        "count = np.zeros(num_banners)\r\n",
        "\r\n",
        "Q= np.zeros(num_banners)\r\n",
        "banner_selected= []"
      ],
      "execution_count": 16,
      "outputs": []
    },
    {
      "cell_type": "code",
      "metadata": {
        "id": "yKvcLSFWbKTl"
      },
      "source": [
        "def epsilon_greedy_policy(epsilon):\r\n",
        "  if np.random.uniform(0,1) < epsilon:\r\n",
        "    return np.random.choice(num_banners)\r\n",
        "  else:\r\n",
        "    return np.argmax(Q)"
      ],
      "execution_count": 17,
      "outputs": []
    },
    {
      "cell_type": "code",
      "metadata": {
        "id": "bLDOwqkBcB9H"
      },
      "source": [
        "sum_rewards =np.zeros(num_banners)"
      ],
      "execution_count": 18,
      "outputs": []
    },
    {
      "cell_type": "code",
      "metadata": {
        "id": "bteMUFKsbcbe"
      },
      "source": [
        "for i in range(num_iterations):\r\n",
        "  banner = epsilon_greedy_policy(0.5)\r\n",
        "  reward = df.values[i,banner]\r\n",
        "  count[banner] += 1\r\n",
        "  sum_rewards[banner] += reward\r\n",
        "  Q[banner]= sum_rewards[banner]/count[banner]\r\n",
        "  banner_selected.append(banner)"
      ],
      "execution_count": 19,
      "outputs": []
    },
    {
      "cell_type": "code",
      "metadata": {
        "colab": {
          "base_uri": "https://localhost:8080/"
        },
        "id": "EHqLeFGjcJZM",
        "outputId": "34e8699f-c920-456f-97bb-139e9eef1ad2"
      },
      "source": [
        "print('The best banner is banner {}'. format(np.argmax(Q)))"
      ],
      "execution_count": 20,
      "outputs": [
        {
          "output_type": "stream",
          "text": [
            "The best banner is banner 4\n"
          ],
          "name": "stdout"
        }
      ]
    },
    {
      "cell_type": "code",
      "metadata": {
        "colab": {
          "base_uri": "https://localhost:8080/",
          "height": 336
        },
        "id": "OIOToksacUAh",
        "outputId": "d43ddfd0-5755-40e0-f1c6-5550e90dbea2"
      },
      "source": [
        "ax = sns.countplot(banner_selected)\r\n",
        "ax.set(xlabel='Banner', ylabel='Count')\r\n",
        "plt.show()"
      ],
      "execution_count": 21,
      "outputs": [
        {
          "output_type": "stream",
          "text": [
            "/usr/local/lib/python3.7/dist-packages/seaborn/_decorators.py:43: FutureWarning: Pass the following variable as a keyword arg: x. From version 0.12, the only valid positional argument will be `data`, and passing other arguments without an explicit keyword will result in an error or misinterpretation.\n",
            "  FutureWarning\n"
          ],
          "name": "stderr"
        },
        {
          "output_type": "display_data",
          "data": {
            "image/png": "[encoded data removed]",
            "text/plain": [
              "<Figure size 432x288 with 1 Axes>"
            ]
          },
          "metadata": {
            "tags": []
          }
        }
      ]
    }
  ]
}