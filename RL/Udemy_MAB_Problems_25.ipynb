{
  "nbformat": 4,
  "nbformat_minor": 0,
  "metadata": {
    "colab": {
      "name": "Udemy MAB Problems.ipynb",
      "provenance": []
    },
    "kernelspec": {
      "name": "python3",
      "display_name": "Python 3"
    }
  },
  "cells": [
    {
      "cell_type": "code",
      "metadata": {
        "id": "uXjJjXkoDhdq"
      },
      "source": [
        "#Jesse Cooper"
      ],
      "execution_count": 13,
      "outputs": []
    },
    {
      "cell_type": "code",
      "metadata": {
        "colab": {
          "base_uri": "https://localhost:8080/"
        },
        "id": "S13V8DC3C1MY",
        "outputId": "d8fb17da-d145-44a6-9231-e56d20c1ea54"
      },
      "source": [
        "from google.colab import drive\r\n",
        "drive.mount('/content/drive')"
      ],
      "execution_count": 14,
      "outputs": [
        {
          "output_type": "stream",
          "text": [
            "Drive already mounted at /content/drive; to attempt to forcibly remount, call drive.mount(\"/content/drive\", force_remount=True).\n"
          ],
          "name": "stdout"
        }
      ]
    },
    {
      "cell_type": "code",
      "metadata": {
        "colab": {
          "base_uri": "https://localhost:8080/"
        },
        "id": "hVIjE8oMC6hp",
        "outputId": "4328c9e4-9db9-4797-e195-cdd59630d98a"
      },
      "source": [
        "%cd /content/drive/My Drive/Colab Notebooks/gym-bandits-master"
      ],
      "execution_count": 15,
      "outputs": [
        {
          "output_type": "stream",
          "text": [
            "/content/drive/My Drive/Colab Notebooks/gym-bandits-master\n"
          ],
          "name": "stdout"
        }
      ]
    },
    {
      "cell_type": "code",
      "metadata": {
        "colab": {
          "base_uri": "https://localhost:8080/"
        },
        "id": "lwPmCMHHC-mx",
        "outputId": "08e1f765-7459-42b8-c828-c32f5a236e32"
      },
      "source": [
        "pip install -e ."
      ],
      "execution_count": 16,
      "outputs": [
        {
          "output_type": "stream",
          "text": [
            "Obtaining file:///content/drive/My%20Drive/Colab%20Notebooks/gym-bandits-master\n",
            "Requirement already satisfied: gym in /usr/local/lib/python3.7/dist-packages (from gym-bandits==0.0.2) (0.17.3)\n",
            "Requirement already satisfied: cloudpickle<1.7.0,>=1.2.0 in /usr/local/lib/python3.7/dist-packages (from gym->gym-bandits==0.0.2) (1.3.0)\n",
            "Requirement already satisfied: pyglet<=1.5.0,>=1.4.0 in /usr/local/lib/python3.7/dist-packages (from gym->gym-bandits==0.0.2) (1.5.0)\n",
            "Requirement already satisfied: scipy in /usr/local/lib/python3.7/dist-packages (from gym->gym-bandits==0.0.2) (1.4.1)\n",
            "Requirement already satisfied: numpy>=1.10.4 in /usr/local/lib/python3.7/dist-packages (from gym->gym-bandits==0.0.2) (1.19.5)\n",
            "Requirement already satisfied: future in /usr/local/lib/python3.7/dist-packages (from pyglet<=1.5.0,>=1.4.0->gym->gym-bandits==0.0.2) (0.16.0)\n",
            "Installing collected packages: gym-bandits\n",
            "  Found existing installation: gym-bandits 0.0.2\n",
            "    Can't uninstall 'gym-bandits'. No files were found to uninstall.\n",
            "  Running setup.py develop for gym-bandits\n",
            "Successfully installed gym-bandits\n"
          ],
          "name": "stdout"
        }
      ]
    },
    {
      "cell_type": "code",
      "metadata": {
        "id": "mKE4i4cKDAIV"
      },
      "source": [
        "import gym\r\n",
        "import gym_bandits\r\n",
        "import numpy as np"
      ],
      "execution_count": 17,
      "outputs": []
    },
    {
      "cell_type": "code",
      "metadata": {
        "id": "P2VmjL51DB-f"
      },
      "source": [
        "env = gym.make(\"BanditTwoArmedHighLowFixed-v0\")"
      ],
      "execution_count": 18,
      "outputs": []
    },
    {
      "cell_type": "code",
      "metadata": {
        "colab": {
          "base_uri": "https://localhost:8080/"
        },
        "id": "0-3f0Bv9EJjI",
        "outputId": "ba949c28-e0ef-477b-8b4e-74e45d5761dc"
      },
      "source": [
        "print(env.action_space.n)"
      ],
      "execution_count": 19,
      "outputs": [
        {
          "output_type": "stream",
          "text": [
            "2\n"
          ],
          "name": "stdout"
        }
      ]
    },
    {
      "cell_type": "code",
      "metadata": {
        "colab": {
          "base_uri": "https://localhost:8080/"
        },
        "id": "sNITxmfmEPav",
        "outputId": "5e682d3c-0f83-496c-b4fe-1fe254a5c88e"
      },
      "source": [
        "print(env.p_dist)"
      ],
      "execution_count": 20,
      "outputs": [
        {
          "output_type": "stream",
          "text": [
            "[0.8, 0.2]\n"
          ],
          "name": "stdout"
        }
      ]
    },
    {
      "cell_type": "code",
      "metadata": {
        "id": "QSXZkLUwF2Ty"
      },
      "source": [
        "count = np.zeros(2)\r\n",
        "sum_reward = np.zeros(2)\r\n",
        "Q = np.zeros(2)\r\n",
        "num_rounds =100"
      ],
      "execution_count": 21,
      "outputs": []
    },
    {
      "cell_type": "code",
      "metadata": {
        "id": "mlKFj3acGLdz"
      },
      "source": [
        "def epsilon_greedy(epsilon):\r\n",
        "  if np.random.uniform(0,1) <epsilon:\r\n",
        "    return env.action_space.sample()\r\n",
        "  else:\r\n",
        "    return np.argmax(Q)"
      ],
      "execution_count": 22,
      "outputs": []
    },
    {
      "cell_type": "code",
      "metadata": {
        "id": "wklAG3DAGc4N"
      },
      "source": [
        "for i in range(num_rounds):\r\n",
        "  arm = epsilon_greedy(epsilon=0.5)\r\n",
        "  next_state, reward, done, info = env.step(arm)\r\n",
        "  count[arm] += 1\r\n",
        "  sum_reward[arm] += reward\r\n",
        "  Q[arm] = sum_reward[arm]/count[arm]"
      ],
      "execution_count": 23,
      "outputs": []
    },
    {
      "cell_type": "code",
      "metadata": {
        "colab": {
          "base_uri": "https://localhost:8080/"
        },
        "id": "VmC36PklHA9O",
        "outputId": "f9db8a96-08f1-4821-c1f5-d9b399663280"
      },
      "source": [
        "print(Q)"
      ],
      "execution_count": 24,
      "outputs": [
        {
          "output_type": "stream",
          "text": [
            "[0.725 0.25 ]\n"
          ],
          "name": "stdout"
        }
      ]
    },
    {
      "cell_type": "code",
      "metadata": {
        "colab": {
          "base_uri": "https://localhost:8080/"
        },
        "id": "hZlzjay4HIxB",
        "outputId": "8c1b90d9-5eca-4ce7-ad17-2da9dce7bc28"
      },
      "source": [
        "print('Optimal arm is arm {}'.format(np.argmax(Q)+1))"
      ],
      "execution_count": 25,
      "outputs": [
        {
          "output_type": "stream",
          "text": [
            "Optimal arm is arm 1\n"
          ],
          "name": "stdout"
        }
      ]
    },
    {
      "cell_type": "code",
      "metadata": {
        "id": "EeTW8bb3Om-N"
      },
      "source": [
        "def softmax(T):\r\n",
        "  denom = sum([np.exp(i/T) for i in Q])\r\n",
        "  probs = [np.exp(i/T)/denom for i in Q]\r\n",
        "  arm = np.random.choice(env.action_space.n, p=probs)\r\n",
        "  return arm\r\n"
      ],
      "execution_count": 26,
      "outputs": []
    },
    {
      "cell_type": "code",
      "metadata": {
        "id": "CsLyqjLDPXxE"
      },
      "source": [
        "T = 50"
      ],
      "execution_count": 27,
      "outputs": []
    },
    {
      "cell_type": "code",
      "metadata": {
        "id": "ezwqN37sPasN"
      },
      "source": [
        "for i in range(num_rounds):\r\n",
        "  arm = softmax(T)\r\n",
        "  next_state, reward, done, info = env.step(arm)\r\n",
        "  count[arm] += 1\r\n",
        "  sum_reward[arm] += reward\r\n",
        "  Q[arm] = sum_reward[arm]/count[arm]\r\n",
        "  T = T*0.99"
      ],
      "execution_count": 28,
      "outputs": []
    },
    {
      "cell_type": "code",
      "metadata": {
        "colab": {
          "base_uri": "https://localhost:8080/"
        },
        "id": "9KJ7PNtrPqw6",
        "outputId": "c4f4a7f2-eca0-4551-956b-fa5e5b5f347f"
      },
      "source": [
        "print(Q)"
      ],
      "execution_count": 29,
      "outputs": [
        {
          "output_type": "stream",
          "text": [
            "[0.765625 0.125   ]\n"
          ],
          "name": "stdout"
        }
      ]
    },
    {
      "cell_type": "code",
      "metadata": {
        "colab": {
          "base_uri": "https://localhost:8080/"
        },
        "id": "lkxXMBkEPvFD",
        "outputId": "6d4c6637-c2d3-4f73-bb69-9afcb131c222"
      },
      "source": [
        "print('Optimal arm is arm {}'.format(np.argmax(Q)+1))"
      ],
      "execution_count": 30,
      "outputs": [
        {
          "output_type": "stream",
          "text": [
            "Optimal arm is arm 1\n"
          ],
          "name": "stdout"
        }
      ]
    },
    {
      "cell_type": "markdown",
      "metadata": {
        "id": "1jjJ0s4hRowX"
      },
      "source": [
        "Select the arm whose upper confidence bound is high\r\n",
        "\r\n",
        "Pull the arm and receive a reward\r\n",
        "\r\n",
        "Update the arm's mean reward and confidence interval\r\n",
        "\r\n",
        "Repeat steps 1 to 3 for several rounds"
      ]
    },
    {
      "cell_type": "code",
      "metadata": {
        "id": "cpbOWsLDR2hP"
      },
      "source": [
        "def UCB(i):\r\n",
        "  ucb= np.zeros(2)\r\n",
        "  if i < 2:\r\n",
        "    return i\r\n",
        "  else:\r\n",
        "    for arm in range(2):\r\n",
        "      ucb[arm] = Q[arm] + np.sqrt((2*np.log(sum(count))) / count[arm])\r\n",
        "    return (np.argmax(ucb))"
      ],
      "execution_count": 31,
      "outputs": []
    },
    {
      "cell_type": "code",
      "metadata": {
        "id": "kU799tssScXm"
      },
      "source": [
        "for i in range(num_rounds):\r\n",
        "  arm = UCB(i)\r\n",
        "  next_state, reward, done, info = env.step(arm)\r\n",
        "  count[arm] += 1\r\n",
        "  sum_reward[arm] += reward\r\n",
        "  Q[arm] = sum_reward[arm]/count[arm]"
      ],
      "execution_count": 32,
      "outputs": []
    },
    {
      "cell_type": "code",
      "metadata": {
        "colab": {
          "base_uri": "https://localhost:8080/"
        },
        "id": "Nhh_CF7sSqs9",
        "outputId": "42a81a9b-d834-45f9-bd33-f5467ffac3c1"
      },
      "source": [
        "print(Q)"
      ],
      "execution_count": 33,
      "outputs": [
        {
          "output_type": "stream",
          "text": [
            "[0.77973568 0.12328767]\n"
          ],
          "name": "stdout"
        }
      ]
    },
    {
      "cell_type": "code",
      "metadata": {
        "colab": {
          "base_uri": "https://localhost:8080/"
        },
        "id": "0HHeEd8dSsae",
        "outputId": "cb947825-654c-4659-c24c-9214be90f1c6"
      },
      "source": [
        "print('Optimal arm is arm {}'.format(np.argmax(Q)+1))"
      ],
      "execution_count": 34,
      "outputs": [
        {
          "output_type": "stream",
          "text": [
            "Optimal arm is arm 1\n"
          ],
          "name": "stdout"
        }
      ]
    },
    {
      "cell_type": "code",
      "metadata": {
        "id": "ywT8VCZfWgx6"
      },
      "source": [
        "alpha = np.ones(2)\r\n",
        "beta = np.ones(2)"
      ],
      "execution_count": 35,
      "outputs": []
    },
    {
      "cell_type": "code",
      "metadata": {
        "id": "t5GflAuvWp27"
      },
      "source": [
        "def thompson_sampling(alpha, beta):\r\n",
        "  samples = [np.random.beta(alpha[i] + 1,beta[i] + 1) for i in range(2)]\r\n",
        "  return np.argmax(samples)"
      ],
      "execution_count": 37,
      "outputs": []
    },
    {
      "cell_type": "code",
      "metadata": {
        "id": "tAMCHSyhXA6n"
      },
      "source": [
        "for i in range(num_rounds):\r\n",
        "  arm = thompson_sampling(alpha, beta)\r\n",
        "  next_state, reward, done, info = env.step(arm)\r\n",
        "  count[arm] += 1\r\n",
        "  sum_reward[arm] += reward\r\n",
        "  Q[arm] = sum_reward[arm]/count[arm]\r\n",
        "  if reward == 1:\r\n",
        "    alpha[arm] = alpha[arm] + 1\r\n",
        "  else:\r\n",
        "    beta[arm] = beta[arm] + 1"
      ],
      "execution_count": 38,
      "outputs": []
    },
    {
      "cell_type": "code",
      "metadata": {
        "colab": {
          "base_uri": "https://localhost:8080/"
        },
        "id": "9BX8UX61XYiH",
        "outputId": "9ad45fef-aa10-4c3b-9012-0e125212f0a5"
      },
      "source": [
        "print('Optimal arm is arm {}'.format(np.argmax(Q)+1))"
      ],
      "execution_count": 39,
      "outputs": [
        {
          "output_type": "stream",
          "text": [
            "Optimal arm is arm 1\n"
          ],
          "name": "stdout"
        }
      ]
    }
  ]
}